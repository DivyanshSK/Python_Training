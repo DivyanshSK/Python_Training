{
 "cells": [
  {
   "cell_type": "code",
   "execution_count": 1,
   "id": "74af6732",
   "metadata": {},
   "outputs": [
    {
     "name": "stdout",
     "output_type": "stream",
     "text": [
      "Hi D$K\n"
     ]
    }
   ],
   "source": [
    "print('Hi D$K');"
   ]
  },
  {
   "cell_type": "code",
   "execution_count": 2,
   "id": "602dba6b",
   "metadata": {},
   "outputs": [],
   "source": [
    "x = 10"
   ]
  },
  {
   "cell_type": "code",
   "execution_count": 3,
   "id": "c5bd2265",
   "metadata": {},
   "outputs": [
    {
     "data": {
      "text/plain": [
       "10"
      ]
     },
     "execution_count": 3,
     "metadata": {},
     "output_type": "execute_result"
    }
   ],
   "source": [
    "x"
   ]
  },
  {
   "cell_type": "code",
   "execution_count": 4,
   "id": "2463e561",
   "metadata": {},
   "outputs": [
    {
     "name": "stdout",
     "output_type": "stream",
     "text": [
      "value of x =  10\n"
     ]
    }
   ],
   "source": [
    "print('value of x = ',x)"
   ]
  },
  {
   "cell_type": "code",
   "execution_count": 5,
   "id": "363fbce9",
   "metadata": {},
   "outputs": [
    {
     "name": "stdout",
     "output_type": "stream",
     "text": [
      "value of x = {} 10\n"
     ]
    }
   ],
   "source": [
    "print('value of x = {}',format(x))"
   ]
  },
  {
   "cell_type": "code",
   "execution_count": 6,
   "id": "45941963",
   "metadata": {},
   "outputs": [
    {
     "name": "stdout",
     "output_type": "stream",
     "text": [
      "value of x =  10\n"
     ]
    }
   ],
   "source": [
    "print('value of x = ',format(x))"
   ]
  },
  {
   "cell_type": "code",
   "execution_count": 8,
   "id": "9544c52b",
   "metadata": {},
   "outputs": [
    {
     "name": "stdout",
     "output_type": "stream",
     "text": [
      "value of x = {x}\n"
     ]
    }
   ],
   "source": [
    "print('value of x = {x}')"
   ]
  },
  {
   "cell_type": "code",
   "execution_count": 9,
   "id": "33d62a9e",
   "metadata": {},
   "outputs": [
    {
     "name": "stdout",
     "output_type": "stream",
     "text": [
      "value of x = {} 10\n"
     ]
    }
   ],
   "source": [
    "print('value of x = {}',(x))"
   ]
  },
  {
   "cell_type": "code",
   "execution_count": 10,
   "id": "7598bed0",
   "metadata": {},
   "outputs": [
    {
     "data": {
      "text/plain": [
       "'aws\\\\s platform is awesome'"
      ]
     },
     "execution_count": 10,
     "metadata": {},
     "output_type": "execute_result"
    }
   ],
   "source": [
    "'aws\\s platform is awesome'"
   ]
  },
  {
   "cell_type": "code",
   "execution_count": 11,
   "id": "8f11a5d2",
   "metadata": {},
   "outputs": [
    {
     "data": {
      "text/plain": [
       "\"aws's platform is awesome\""
      ]
     },
     "execution_count": 11,
     "metadata": {},
     "output_type": "execute_result"
    }
   ],
   "source": [
    "'aws\\'s platform is awesome'"
   ]
  },
  {
   "cell_type": "code",
   "execution_count": 12,
   "id": "ea4068ec",
   "metadata": {},
   "outputs": [
    {
     "data": {
      "text/plain": [
       "10"
      ]
     },
     "execution_count": 12,
     "metadata": {},
     "output_type": "execute_result"
    }
   ],
   "source": [
    "x"
   ]
  },
  {
   "cell_type": "code",
   "execution_count": 13,
   "id": "46a6a838",
   "metadata": {},
   "outputs": [
    {
     "data": {
      "text/plain": [
       "15"
      ]
     },
     "execution_count": 13,
     "metadata": {},
     "output_type": "execute_result"
    }
   ],
   "source": [
    "x+5"
   ]
  },
  {
   "cell_type": "code",
   "execution_count": 14,
   "id": "57f6fbab",
   "metadata": {},
   "outputs": [
    {
     "data": {
      "text/plain": [
       "10"
      ]
     },
     "execution_count": 14,
     "metadata": {},
     "output_type": "execute_result"
    }
   ],
   "source": [
    "x"
   ]
  },
  {
   "cell_type": "code",
   "execution_count": 15,
   "id": "b9d80a7e",
   "metadata": {},
   "outputs": [
    {
     "ename": "KeyboardInterrupt",
     "evalue": "Interrupted by user",
     "output_type": "error",
     "traceback": [
      "\u001b[0;31m---------------------------------------------------------------------------\u001b[0m",
      "\u001b[0;31mKeyboardInterrupt\u001b[0m                         Traceback (most recent call last)",
      "\u001b[0;32m/var/folders/ls/y2r6d6y16g5g_tg8x5hv79hw0000gq/T/ipykernel_2764/4285193118.py\u001b[0m in \u001b[0;36m<module>\u001b[0;34m\u001b[0m\n\u001b[1;32m      1\u001b[0m \u001b[0;31m# i'p from the user\u001b[0m\u001b[0;34m\u001b[0m\u001b[0;34m\u001b[0m\u001b[0m\n\u001b[0;32m----> 2\u001b[0;31m \u001b[0mc\u001b[0m \u001b[0;34m=\u001b[0m \u001b[0minput\u001b[0m\u001b[0;34m(\u001b[0m\u001b[0;34m)\u001b[0m\u001b[0;34m\u001b[0m\u001b[0;34m\u001b[0m\u001b[0m\n\u001b[0m",
      "\u001b[0;32m/Library/Frameworks/Python.framework/Versions/3.9/lib/python3.9/site-packages/ipykernel/kernelbase.py\u001b[0m in \u001b[0;36mraw_input\u001b[0;34m(self, prompt)\u001b[0m\n\u001b[1;32m   1005\u001b[0m                 \u001b[0;34m\"raw_input was called, but this frontend does not support input requests.\"\u001b[0m\u001b[0;34m\u001b[0m\u001b[0;34m\u001b[0m\u001b[0m\n\u001b[1;32m   1006\u001b[0m             )\n\u001b[0;32m-> 1007\u001b[0;31m         return self._input_request(\n\u001b[0m\u001b[1;32m   1008\u001b[0m             \u001b[0mstr\u001b[0m\u001b[0;34m(\u001b[0m\u001b[0mprompt\u001b[0m\u001b[0;34m)\u001b[0m\u001b[0;34m,\u001b[0m\u001b[0;34m\u001b[0m\u001b[0;34m\u001b[0m\u001b[0m\n\u001b[1;32m   1009\u001b[0m             \u001b[0mself\u001b[0m\u001b[0;34m.\u001b[0m\u001b[0m_parent_ident\u001b[0m\u001b[0;34m[\u001b[0m\u001b[0;34m\"shell\"\u001b[0m\u001b[0;34m]\u001b[0m\u001b[0;34m,\u001b[0m\u001b[0;34m\u001b[0m\u001b[0;34m\u001b[0m\u001b[0m\n",
      "\u001b[0;32m/Library/Frameworks/Python.framework/Versions/3.9/lib/python3.9/site-packages/ipykernel/kernelbase.py\u001b[0m in \u001b[0;36m_input_request\u001b[0;34m(self, prompt, ident, parent, password)\u001b[0m\n\u001b[1;32m   1050\u001b[0m             \u001b[0;32mexcept\u001b[0m \u001b[0mKeyboardInterrupt\u001b[0m\u001b[0;34m:\u001b[0m\u001b[0;34m\u001b[0m\u001b[0;34m\u001b[0m\u001b[0m\n\u001b[1;32m   1051\u001b[0m                 \u001b[0;31m# re-raise KeyboardInterrupt, to truncate traceback\u001b[0m\u001b[0;34m\u001b[0m\u001b[0;34m\u001b[0m\u001b[0m\n\u001b[0;32m-> 1052\u001b[0;31m                 \u001b[0;32mraise\u001b[0m \u001b[0mKeyboardInterrupt\u001b[0m\u001b[0;34m(\u001b[0m\u001b[0;34m\"Interrupted by user\"\u001b[0m\u001b[0;34m)\u001b[0m \u001b[0;32mfrom\u001b[0m \u001b[0;32mNone\u001b[0m\u001b[0;34m\u001b[0m\u001b[0;34m\u001b[0m\u001b[0m\n\u001b[0m\u001b[1;32m   1053\u001b[0m             \u001b[0;32mexcept\u001b[0m \u001b[0mException\u001b[0m\u001b[0;34m:\u001b[0m\u001b[0;34m\u001b[0m\u001b[0;34m\u001b[0m\u001b[0m\n\u001b[1;32m   1054\u001b[0m                 \u001b[0mself\u001b[0m\u001b[0;34m.\u001b[0m\u001b[0mlog\u001b[0m\u001b[0;34m.\u001b[0m\u001b[0mwarning\u001b[0m\u001b[0;34m(\u001b[0m\u001b[0;34m\"Invalid Message:\"\u001b[0m\u001b[0;34m,\u001b[0m \u001b[0mexc_info\u001b[0m\u001b[0;34m=\u001b[0m\u001b[0;32mTrue\u001b[0m\u001b[0;34m)\u001b[0m\u001b[0;34m\u001b[0m\u001b[0;34m\u001b[0m\u001b[0m\n",
      "\u001b[0;31mKeyboardInterrupt\u001b[0m: Interrupted by user"
     ]
    }
   ],
   "source": [
    "# i'p from the user\n",
    "c = input()"
   ]
  },
  {
   "cell_type": "code",
   "execution_count": null,
   "id": "3116c92b",
   "metadata": {},
   "outputs": [],
   "source": [
    "c"
   ]
  },
  {
   "cell_type": "code",
   "execution_count": null,
   "id": "bdf4a006",
   "metadata": {},
   "outputs": [],
   "source": [
    "c = input('Enter your name:')"
   ]
  },
  {
   "cell_type": "code",
   "execution_count": null,
   "id": "563cee74",
   "metadata": {},
   "outputs": [],
   "source": [
    "d = input('Enter your name:')"
   ]
  },
  {
   "cell_type": "code",
   "execution_count": null,
   "id": "b119fc1f",
   "metadata": {},
   "outputs": [],
   "source": []
  },
  {
   "cell_type": "code",
   "execution_count": null,
   "id": "f9547f38",
   "metadata": {},
   "outputs": [],
   "source": [
    "a = input('enter ur name')"
   ]
  },
  {
   "cell_type": "code",
   "execution_count": null,
   "id": "91abaa68",
   "metadata": {},
   "outputs": [],
   "source": [
    "a"
   ]
  },
  {
   "cell_type": "code",
   "execution_count": null,
   "id": "51ce3964",
   "metadata": {},
   "outputs": [],
   "source": []
  },
  {
   "cell_type": "code",
   "execution_count": null,
   "id": "6b0ffbcd",
   "metadata": {},
   "outputs": [],
   "source": [
    "print(a)"
   ]
  },
  {
   "cell_type": "code",
   "execution_count": null,
   "id": "c9d54bac",
   "metadata": {},
   "outputs": [],
   "source": []
  },
  {
   "cell_type": "code",
   "execution_count": null,
   "id": "a8721e8d",
   "metadata": {},
   "outputs": [],
   "source": [
    "age = input('Entr your age')"
   ]
  },
  {
   "cell_type": "code",
   "execution_count": null,
   "id": "9a7c34fd",
   "metadata": {},
   "outputs": [],
   "source": [
    "ag = input(\"enter your age:\")\n"
   ]
  },
  {
   "cell_type": "code",
   "execution_count": null,
   "id": "13b31832",
   "metadata": {},
   "outputs": [],
   "source": [
    "age\n"
   ]
  },
  {
   "cell_type": "code",
   "execution_count": null,
   "id": "eef17c07",
   "metadata": {},
   "outputs": [],
   "source": [
    "b = input('enter ur name')"
   ]
  },
  {
   "cell_type": "code",
   "execution_count": null,
   "id": "d23e793e",
   "metadata": {},
   "outputs": [],
   "source": [
    "a=2\n"
   ]
  },
  {
   "cell_type": "code",
   "execution_count": null,
   "id": "f93996cf",
   "metadata": {},
   "outputs": [],
   "source": [
    "a"
   ]
  },
  {
   "cell_type": "code",
   "execution_count": null,
   "id": "bd7ee362",
   "metadata": {},
   "outputs": [],
   "source": []
  },
  {
   "cell_type": "code",
   "execution_count": null,
   "id": "ae6c4445",
   "metadata": {},
   "outputs": [],
   "source": [
    "z = 2"
   ]
  },
  {
   "cell_type": "code",
   "execution_count": null,
   "id": "973214f2",
   "metadata": {},
   "outputs": [],
   "source": [
    "z"
   ]
  },
  {
   "cell_type": "code",
   "execution_count": null,
   "id": "ed82116f",
   "metadata": {},
   "outputs": [],
   "source": []
  },
  {
   "cell_type": "code",
   "execution_count": null,
   "id": "cadec5cd",
   "metadata": {},
   "outputs": [],
   "source": [
    "print(z)"
   ]
  },
  {
   "cell_type": "code",
   "execution_count": 1,
   "id": "1401754f",
   "metadata": {},
   "outputs": [
    {
     "ename": "NameError",
     "evalue": "name 'z' is not defined",
     "output_type": "error",
     "traceback": [
      "\u001b[0;31m---------------------------------------------------------------------------\u001b[0m",
      "\u001b[0;31mNameError\u001b[0m                                 Traceback (most recent call last)",
      "\u001b[0;32m/var/folders/ls/y2r6d6y16g5g_tg8x5hv79hw0000gq/T/ipykernel_3456/1705769632.py\u001b[0m in \u001b[0;36m<module>\u001b[0;34m\u001b[0m\n\u001b[0;32m----> 1\u001b[0;31m \u001b[0mz\u001b[0m\u001b[0;34m\u001b[0m\u001b[0;34m\u001b[0m\u001b[0m\n\u001b[0m",
      "\u001b[0;31mNameError\u001b[0m: name 'z' is not defined"
     ]
    }
   ],
   "source": [
    "z"
   ]
  },
  {
   "cell_type": "code",
   "execution_count": 2,
   "id": "2f929401",
   "metadata": {},
   "outputs": [
    {
     "name": "stdout",
     "output_type": "stream",
     "text": [
      "Entr your age23\n"
     ]
    }
   ],
   "source": [
    "age = input('Entr your age')"
   ]
  },
  {
   "cell_type": "code",
   "execution_count": 3,
   "id": "a355fd92",
   "metadata": {},
   "outputs": [
    {
     "data": {
      "text/plain": [
       "'23'"
      ]
     },
     "execution_count": 3,
     "metadata": {},
     "output_type": "execute_result"
    }
   ],
   "source": [
    "age"
   ]
  },
  {
   "cell_type": "code",
   "execution_count": 4,
   "id": "1e6fbc81",
   "metadata": {},
   "outputs": [],
   "source": [
    "intAge = int(age)"
   ]
  },
  {
   "cell_type": "code",
   "execution_count": 5,
   "id": "c67912e4",
   "metadata": {},
   "outputs": [
    {
     "data": {
      "text/plain": [
       "23"
      ]
     },
     "execution_count": 5,
     "metadata": {},
     "output_type": "execute_result"
    }
   ],
   "source": [
    "intAge"
   ]
  },
  {
   "cell_type": "code",
   "execution_count": 6,
   "id": "f2b11706",
   "metadata": {},
   "outputs": [],
   "source": [
    "a = 5**2"
   ]
  },
  {
   "cell_type": "code",
   "execution_count": 7,
   "id": "d34030bc",
   "metadata": {},
   "outputs": [
    {
     "data": {
      "text/plain": [
       "25"
      ]
     },
     "execution_count": 7,
     "metadata": {},
     "output_type": "execute_result"
    }
   ],
   "source": [
    "a"
   ]
  },
  {
   "cell_type": "code",
   "execution_count": 8,
   "id": "02d723e6",
   "metadata": {},
   "outputs": [],
   "source": [
    "import math"
   ]
  },
  {
   "cell_type": "code",
   "execution_count": 9,
   "id": "1d0e1d38",
   "metadata": {},
   "outputs": [
    {
     "ename": "AttributeError",
     "evalue": "module 'math' has no attribute 'sq'",
     "output_type": "error",
     "traceback": [
      "\u001b[0;31m---------------------------------------------------------------------------\u001b[0m",
      "\u001b[0;31mAttributeError\u001b[0m                            Traceback (most recent call last)",
      "\u001b[0;32m/var/folders/ls/y2r6d6y16g5g_tg8x5hv79hw0000gq/T/ipykernel_3456/228403268.py\u001b[0m in \u001b[0;36m<module>\u001b[0;34m\u001b[0m\n\u001b[0;32m----> 1\u001b[0;31m \u001b[0ma\u001b[0m \u001b[0;34m=\u001b[0m \u001b[0mmath\u001b[0m\u001b[0;34m.\u001b[0m\u001b[0msq\u001b[0m\u001b[0;34m(\u001b[0m\u001b[0;36m2\u001b[0m\u001b[0;34m)\u001b[0m\u001b[0;34m\u001b[0m\u001b[0;34m\u001b[0m\u001b[0m\n\u001b[0m",
      "\u001b[0;31mAttributeError\u001b[0m: module 'math' has no attribute 'sq'"
     ]
    }
   ],
   "source": [
    "a = math.sq(2)"
   ]
  },
  {
   "cell_type": "code",
   "execution_count": 10,
   "id": "7be34656",
   "metadata": {},
   "outputs": [
    {
     "name": "stdout",
     "output_type": "stream",
     "text": [
      "Help on module math:\n",
      "\n",
      "NAME\n",
      "    math\n",
      "\n",
      "MODULE REFERENCE\n",
      "    https://docs.python.org/3.9/library/math\n",
      "    \n",
      "    The following documentation is automatically generated from the Python\n",
      "    source files.  It may be incomplete, incorrect or include features that\n",
      "    are considered implementation detail and may vary between Python\n",
      "    implementations.  When in doubt, consult the module reference at the\n",
      "    location listed above.\n",
      "\n",
      "DESCRIPTION\n",
      "    This module provides access to the mathematical functions\n",
      "    defined by the C standard.\n",
      "\n",
      "FUNCTIONS\n",
      "    acos(x, /)\n",
      "        Return the arc cosine (measured in radians) of x.\n",
      "        \n",
      "        The result is between 0 and pi.\n",
      "    \n",
      "    acosh(x, /)\n",
      "        Return the inverse hyperbolic cosine of x.\n",
      "    \n",
      "    asin(x, /)\n",
      "        Return the arc sine (measured in radians) of x.\n",
      "        \n",
      "        The result is between -pi/2 and pi/2.\n",
      "    \n",
      "    asinh(x, /)\n",
      "        Return the inverse hyperbolic sine of x.\n",
      "    \n",
      "    atan(x, /)\n",
      "        Return the arc tangent (measured in radians) of x.\n",
      "        \n",
      "        The result is between -pi/2 and pi/2.\n",
      "    \n",
      "    atan2(y, x, /)\n",
      "        Return the arc tangent (measured in radians) of y/x.\n",
      "        \n",
      "        Unlike atan(y/x), the signs of both x and y are considered.\n",
      "    \n",
      "    atanh(x, /)\n",
      "        Return the inverse hyperbolic tangent of x.\n",
      "    \n",
      "    ceil(x, /)\n",
      "        Return the ceiling of x as an Integral.\n",
      "        \n",
      "        This is the smallest integer >= x.\n",
      "    \n",
      "    comb(n, k, /)\n",
      "        Number of ways to choose k items from n items without repetition and without order.\n",
      "        \n",
      "        Evaluates to n! / (k! * (n - k)!) when k <= n and evaluates\n",
      "        to zero when k > n.\n",
      "        \n",
      "        Also called the binomial coefficient because it is equivalent\n",
      "        to the coefficient of k-th term in polynomial expansion of the\n",
      "        expression (1 + x)**n.\n",
      "        \n",
      "        Raises TypeError if either of the arguments are not integers.\n",
      "        Raises ValueError if either of the arguments are negative.\n",
      "    \n",
      "    copysign(x, y, /)\n",
      "        Return a float with the magnitude (absolute value) of x but the sign of y.\n",
      "        \n",
      "        On platforms that support signed zeros, copysign(1.0, -0.0)\n",
      "        returns -1.0.\n",
      "    \n",
      "    cos(x, /)\n",
      "        Return the cosine of x (measured in radians).\n",
      "    \n",
      "    cosh(x, /)\n",
      "        Return the hyperbolic cosine of x.\n",
      "    \n",
      "    degrees(x, /)\n",
      "        Convert angle x from radians to degrees.\n",
      "    \n",
      "    dist(p, q, /)\n",
      "        Return the Euclidean distance between two points p and q.\n",
      "        \n",
      "        The points should be specified as sequences (or iterables) of\n",
      "        coordinates.  Both inputs must have the same dimension.\n",
      "        \n",
      "        Roughly equivalent to:\n",
      "            sqrt(sum((px - qx) ** 2.0 for px, qx in zip(p, q)))\n",
      "    \n",
      "    erf(x, /)\n",
      "        Error function at x.\n",
      "    \n",
      "    erfc(x, /)\n",
      "        Complementary error function at x.\n",
      "    \n",
      "    exp(x, /)\n",
      "        Return e raised to the power of x.\n",
      "    \n",
      "    expm1(x, /)\n",
      "        Return exp(x)-1.\n",
      "        \n",
      "        This function avoids the loss of precision involved in the direct evaluation of exp(x)-1 for small x.\n",
      "    \n",
      "    fabs(x, /)\n",
      "        Return the absolute value of the float x.\n",
      "    \n",
      "    factorial(x, /)\n",
      "        Find x!.\n",
      "        \n",
      "        Raise a ValueError if x is negative or non-integral.\n",
      "    \n",
      "    floor(x, /)\n",
      "        Return the floor of x as an Integral.\n",
      "        \n",
      "        This is the largest integer <= x.\n",
      "    \n",
      "    fmod(x, y, /)\n",
      "        Return fmod(x, y), according to platform C.\n",
      "        \n",
      "        x % y may differ.\n",
      "    \n",
      "    frexp(x, /)\n",
      "        Return the mantissa and exponent of x, as pair (m, e).\n",
      "        \n",
      "        m is a float and e is an int, such that x = m * 2.**e.\n",
      "        If x is 0, m and e are both 0.  Else 0.5 <= abs(m) < 1.0.\n",
      "    \n",
      "    fsum(seq, /)\n",
      "        Return an accurate floating point sum of values in the iterable seq.\n",
      "        \n",
      "        Assumes IEEE-754 floating point arithmetic.\n",
      "    \n",
      "    gamma(x, /)\n",
      "        Gamma function at x.\n",
      "    \n",
      "    gcd(*integers)\n",
      "        Greatest Common Divisor.\n",
      "    \n",
      "    hypot(...)\n",
      "        hypot(*coordinates) -> value\n",
      "        \n",
      "        Multidimensional Euclidean distance from the origin to a point.\n",
      "        \n",
      "        Roughly equivalent to:\n",
      "            sqrt(sum(x**2 for x in coordinates))\n",
      "        \n",
      "        For a two dimensional point (x, y), gives the hypotenuse\n",
      "        using the Pythagorean theorem:  sqrt(x*x + y*y).\n",
      "        \n",
      "        For example, the hypotenuse of a 3/4/5 right triangle is:\n",
      "        \n",
      "            >>> hypot(3.0, 4.0)\n",
      "            5.0\n",
      "    \n",
      "    isclose(a, b, *, rel_tol=1e-09, abs_tol=0.0)\n",
      "        Determine whether two floating point numbers are close in value.\n",
      "        \n",
      "          rel_tol\n",
      "            maximum difference for being considered \"close\", relative to the\n",
      "            magnitude of the input values\n",
      "          abs_tol\n",
      "            maximum difference for being considered \"close\", regardless of the\n",
      "            magnitude of the input values\n",
      "        \n",
      "        Return True if a is close in value to b, and False otherwise.\n",
      "        \n",
      "        For the values to be considered close, the difference between them\n",
      "        must be smaller than at least one of the tolerances.\n",
      "        \n",
      "        -inf, inf and NaN behave similarly to the IEEE 754 Standard.  That\n",
      "        is, NaN is not close to anything, even itself.  inf and -inf are\n",
      "        only close to themselves.\n",
      "    \n",
      "    isfinite(x, /)\n",
      "        Return True if x is neither an infinity nor a NaN, and False otherwise.\n",
      "    \n",
      "    isinf(x, /)\n",
      "        Return True if x is a positive or negative infinity, and False otherwise.\n",
      "    \n",
      "    isnan(x, /)\n",
      "        Return True if x is a NaN (not a number), and False otherwise.\n",
      "    \n",
      "    isqrt(n, /)\n",
      "        Return the integer part of the square root of the input.\n",
      "    \n",
      "    lcm(*integers)\n",
      "        Least Common Multiple.\n",
      "    \n",
      "    ldexp(x, i, /)\n",
      "        Return x * (2**i).\n",
      "        \n",
      "        This is essentially the inverse of frexp().\n",
      "    \n",
      "    lgamma(x, /)\n",
      "        Natural logarithm of absolute value of Gamma function at x.\n",
      "    \n",
      "    log(...)\n",
      "        log(x, [base=math.e])\n",
      "        Return the logarithm of x to the given base.\n",
      "        \n",
      "        If the base not specified, returns the natural logarithm (base e) of x.\n",
      "    \n",
      "    log10(x, /)\n",
      "        Return the base 10 logarithm of x.\n",
      "    \n",
      "    log1p(x, /)\n",
      "        Return the natural logarithm of 1+x (base e).\n",
      "        \n",
      "        The result is computed in a way which is accurate for x near zero.\n",
      "    \n",
      "    log2(x, /)\n",
      "        Return the base 2 logarithm of x.\n",
      "    \n",
      "    modf(x, /)\n",
      "        Return the fractional and integer parts of x.\n",
      "        \n",
      "        Both results carry the sign of x and are floats.\n",
      "    \n",
      "    nextafter(x, y, /)\n",
      "        Return the next floating-point value after x towards y.\n",
      "    \n",
      "    perm(n, k=None, /)\n",
      "        Number of ways to choose k items from n items without repetition and with order.\n",
      "        \n",
      "        Evaluates to n! / (n - k)! when k <= n and evaluates\n",
      "        to zero when k > n.\n",
      "        \n",
      "        If k is not specified or is None, then k defaults to n\n",
      "        and the function returns n!.\n",
      "        \n",
      "        Raises TypeError if either of the arguments are not integers.\n",
      "        Raises ValueError if either of the arguments are negative.\n",
      "    \n",
      "    pow(x, y, /)\n",
      "        Return x**y (x to the power of y).\n",
      "    \n",
      "    prod(iterable, /, *, start=1)\n",
      "        Calculate the product of all the elements in the input iterable.\n",
      "        \n",
      "        The default start value for the product is 1.\n",
      "        \n",
      "        When the iterable is empty, return the start value.  This function is\n",
      "        intended specifically for use with numeric values and may reject\n",
      "        non-numeric types.\n",
      "    \n",
      "    radians(x, /)\n",
      "        Convert angle x from degrees to radians.\n",
      "    \n",
      "    remainder(x, y, /)\n",
      "        Difference between x and the closest integer multiple of y.\n",
      "        \n",
      "        Return x - n*y where n*y is the closest integer multiple of y.\n",
      "        In the case where x is exactly halfway between two multiples of\n",
      "        y, the nearest even value of n is used. The result is always exact.\n",
      "    \n",
      "    sin(x, /)\n",
      "        Return the sine of x (measured in radians).\n",
      "    \n",
      "    sinh(x, /)\n",
      "        Return the hyperbolic sine of x.\n",
      "    \n",
      "    sqrt(x, /)\n",
      "        Return the square root of x.\n",
      "    \n",
      "    tan(x, /)\n",
      "        Return the tangent of x (measured in radians).\n",
      "    \n",
      "    tanh(x, /)\n",
      "        Return the hyperbolic tangent of x.\n",
      "    \n",
      "    trunc(x, /)\n",
      "        Truncates the Real x to the nearest Integral toward 0.\n",
      "        \n",
      "        Uses the __trunc__ magic method.\n",
      "    \n",
      "    ulp(x, /)\n",
      "        Return the value of the least significant bit of the float x.\n",
      "\n",
      "DATA\n",
      "    e = 2.718281828459045\n",
      "    inf = inf\n",
      "    nan = nan\n",
      "    pi = 3.141592653589793\n",
      "    tau = 6.283185307179586\n",
      "\n",
      "FILE\n",
      "    /Library/Frameworks/Python.framework/Versions/3.9/lib/python3.9/lib-dynload/math.cpython-39-darwin.so\n",
      "\n",
      "\n"
     ]
    }
   ],
   "source": [
    "help(math)"
   ]
  },
  {
   "cell_type": "code",
   "execution_count": 11,
   "id": "6ab3b4ad",
   "metadata": {},
   "outputs": [],
   "source": [
    "a= math.pow(2,3)"
   ]
  },
  {
   "cell_type": "code",
   "execution_count": 12,
   "id": "c482176d",
   "metadata": {},
   "outputs": [
    {
     "data": {
      "text/plain": [
       "8.0"
      ]
     },
     "execution_count": 12,
     "metadata": {},
     "output_type": "execute_result"
    }
   ],
   "source": [
    "a"
   ]
  },
  {
   "cell_type": "code",
   "execution_count": 13,
   "id": "15d303dd",
   "metadata": {},
   "outputs": [],
   "source": [
    "s = 'python is fun'"
   ]
  },
  {
   "cell_type": "code",
   "execution_count": 14,
   "id": "d0a98dfc",
   "metadata": {},
   "outputs": [
    {
     "data": {
      "text/plain": [
       "str"
      ]
     },
     "execution_count": 14,
     "metadata": {},
     "output_type": "execute_result"
    }
   ],
   "source": [
    "type(s)"
   ]
  },
  {
   "cell_type": "code",
   "execution_count": 15,
   "id": "bfce802a",
   "metadata": {},
   "outputs": [
    {
     "data": {
      "text/plain": [
       "'Python is fun'"
      ]
     },
     "execution_count": 15,
     "metadata": {},
     "output_type": "execute_result"
    }
   ],
   "source": [
    "s.capitalize()"
   ]
  },
  {
   "cell_type": "code",
   "execution_count": 16,
   "id": "499fe431",
   "metadata": {},
   "outputs": [
    {
     "data": {
      "text/plain": [
       "'PYTHON IS FUN'"
      ]
     },
     "execution_count": 16,
     "metadata": {},
     "output_type": "execute_result"
    }
   ],
   "source": [
    "s.upper()"
   ]
  },
  {
   "cell_type": "code",
   "execution_count": 17,
   "id": "443f58e3",
   "metadata": {},
   "outputs": [
    {
     "ename": "AttributeError",
     "evalue": "'str' object has no attribute 'swap'",
     "output_type": "error",
     "traceback": [
      "\u001b[0;31m---------------------------------------------------------------------------\u001b[0m",
      "\u001b[0;31mAttributeError\u001b[0m                            Traceback (most recent call last)",
      "\u001b[0;32m/var/folders/ls/y2r6d6y16g5g_tg8x5hv79hw0000gq/T/ipykernel_3456/3469206579.py\u001b[0m in \u001b[0;36m<module>\u001b[0;34m\u001b[0m\n\u001b[0;32m----> 1\u001b[0;31m \u001b[0ms\u001b[0m\u001b[0;34m.\u001b[0m\u001b[0mswap\u001b[0m\u001b[0;34m(\u001b[0m\u001b[0;34m)\u001b[0m\u001b[0;34m\u001b[0m\u001b[0;34m\u001b[0m\u001b[0m\n\u001b[0m",
      "\u001b[0;31mAttributeError\u001b[0m: 'str' object has no attribute 'swap'"
     ]
    }
   ],
   "source": [
    "s.swap()"
   ]
  },
  {
   "cell_type": "code",
   "execution_count": 18,
   "id": "eebe3e8a",
   "metadata": {},
   "outputs": [
    {
     "data": {
      "text/plain": [
       "'PYTHON IS FUN'"
      ]
     },
     "execution_count": 18,
     "metadata": {},
     "output_type": "execute_result"
    }
   ],
   "source": [
    "s.swapcase()"
   ]
  },
  {
   "cell_type": "code",
   "execution_count": 19,
   "id": "31597275",
   "metadata": {},
   "outputs": [
    {
     "data": {
      "text/plain": [
       "'python is fun'"
      ]
     },
     "execution_count": 19,
     "metadata": {},
     "output_type": "execute_result"
    }
   ],
   "source": [
    "s"
   ]
  },
  {
   "cell_type": "code",
   "execution_count": 20,
   "id": "e5dbc690",
   "metadata": {},
   "outputs": [
    {
     "data": {
      "text/plain": [
       "'p'"
      ]
     },
     "execution_count": 20,
     "metadata": {},
     "output_type": "execute_result"
    }
   ],
   "source": [
    "s[0]"
   ]
  },
  {
   "cell_type": "code",
   "execution_count": 21,
   "id": "2dde860b",
   "metadata": {},
   "outputs": [
    {
     "data": {
      "text/plain": [
       "8"
      ]
     },
     "execution_count": 21,
     "metadata": {},
     "output_type": "execute_result"
    }
   ],
   "source": [
    "s.index('s')"
   ]
  },
  {
   "cell_type": "code",
   "execution_count": 22,
   "id": "ab361dc9",
   "metadata": {},
   "outputs": [
    {
     "ename": "SyntaxError",
     "evalue": "invalid syntax (1489650705.py, line 1)",
     "output_type": "error",
     "traceback": [
      "\u001b[0;36m  File \u001b[0;32m\"/var/folders/ls/y2r6d6y16g5g_tg8x5hv79hw0000gq/T/ipykernel_3456/1489650705.py\"\u001b[0;36m, line \u001b[0;32m1\u001b[0m\n\u001b[0;31m    s.[-1]\u001b[0m\n\u001b[0m      ^\u001b[0m\n\u001b[0;31mSyntaxError\u001b[0m\u001b[0;31m:\u001b[0m invalid syntax\n"
     ]
    }
   ],
   "source": [
    "s.[-1]"
   ]
  },
  {
   "cell_type": "code",
   "execution_count": 23,
   "id": "c25c0b2a",
   "metadata": {},
   "outputs": [
    {
     "data": {
      "text/plain": [
       "'n'"
      ]
     },
     "execution_count": 23,
     "metadata": {},
     "output_type": "execute_result"
    }
   ],
   "source": [
    "s[-1]"
   ]
  },
  {
   "cell_type": "code",
   "execution_count": 24,
   "id": "389b4fad",
   "metadata": {},
   "outputs": [
    {
     "ename": "SyntaxError",
     "evalue": "invalid syntax (260475506.py, line 1)",
     "output_type": "error",
     "traceback": [
      "\u001b[0;36m  File \u001b[0;32m\"/var/folders/ls/y2r6d6y16g5g_tg8x5hv79hw0000gq/T/ipykernel_3456/260475506.py\"\u001b[0;36m, line \u001b[0;32m1\u001b[0m\n\u001b[0;31m    syntax for slicing:\u001b[0m\n\u001b[0m           ^\u001b[0m\n\u001b[0;31mSyntaxError\u001b[0m\u001b[0;31m:\u001b[0m invalid syntax\n"
     ]
    }
   ],
   "source": [
    "syntax for slicing:\n",
    "    s[START_INDEX:STOP_INDEX]\n",
    "    s[START_INDEX:STOP_INDEX:STEP_SIZE]"
   ]
  },
  {
   "cell_type": "code",
   "execution_count": 25,
   "id": "89490293",
   "metadata": {},
   "outputs": [
    {
     "data": {
      "text/plain": [
       "'ython is fun'"
      ]
     },
     "execution_count": 25,
     "metadata": {},
     "output_type": "execute_result"
    }
   ],
   "source": [
    "s[1:]"
   ]
  },
  {
   "cell_type": "markdown",
   "id": "7b001a8e",
   "metadata": {},
   "source": [
    "s[::-1]"
   ]
  },
  {
   "cell_type": "code",
   "execution_count": 26,
   "id": "bdc63ecc",
   "metadata": {},
   "outputs": [
    {
     "data": {
      "text/plain": [
       "'nuf si nohtyp'"
      ]
     },
     "execution_count": 26,
     "metadata": {},
     "output_type": "execute_result"
    }
   ],
   "source": [
    "s[::-1]"
   ]
  },
  {
   "cell_type": "code",
   "execution_count": 27,
   "id": "6901ee4a",
   "metadata": {},
   "outputs": [
    {
     "data": {
      "text/plain": [
       "'p'"
      ]
     },
     "execution_count": 27,
     "metadata": {},
     "output_type": "execute_result"
    }
   ],
   "source": [
    "s[0]"
   ]
  },
  {
   "cell_type": "code",
   "execution_count": 28,
   "id": "b39ad14a",
   "metadata": {},
   "outputs": [
    {
     "data": {
      "text/plain": [
       "False"
      ]
     },
     "execution_count": 28,
     "metadata": {},
     "output_type": "execute_result"
    }
   ],
   "source": [
    "s[0::] == s[::-1]"
   ]
  },
  {
   "cell_type": "code",
   "execution_count": 29,
   "id": "c3fe7d39",
   "metadata": {},
   "outputs": [],
   "source": [
    "s = 'nitin'"
   ]
  },
  {
   "cell_type": "code",
   "execution_count": 3,
   "id": "b17c0057",
   "metadata": {},
   "outputs": [
    {
     "data": {
      "text/plain": [
       "True"
      ]
     },
     "execution_count": 3,
     "metadata": {},
     "output_type": "execute_result"
    }
   ],
   "source": [
    "#checking the palindrome\n",
    "s = 'nitin'\n",
    "s[0::] == s[::-1]"
   ]
  },
  {
   "cell_type": "code",
   "execution_count": 31,
   "id": "056b3a1e",
   "metadata": {},
   "outputs": [],
   "source": [
    "s1 = '$45$46'"
   ]
  },
  {
   "cell_type": "code",
   "execution_count": 32,
   "id": "dc266575",
   "metadata": {},
   "outputs": [
    {
     "data": {
      "text/plain": [
       "'it'"
      ]
     },
     "execution_count": 32,
     "metadata": {},
     "output_type": "execute_result"
    }
   ],
   "source": [
    "s[1:3]"
   ]
  },
  {
   "cell_type": "code",
   "execution_count": 33,
   "id": "dd9a409c",
   "metadata": {},
   "outputs": [
    {
     "data": {
      "text/plain": [
       "'45'"
      ]
     },
     "execution_count": 33,
     "metadata": {},
     "output_type": "execute_result"
    }
   ],
   "source": [
    "s1[1:3]"
   ]
  },
  {
   "cell_type": "code",
   "execution_count": 1,
   "id": "9e77d7d5",
   "metadata": {},
   "outputs": [
    {
     "name": "stdout",
     "output_type": "stream",
     "text": [
      "x =  10\n",
      "End of block\n"
     ]
    }
   ],
   "source": [
    "x=10\n",
    "if x == 10:\n",
    "    print('x = ', x)\n",
    "    print('End of block')"
   ]
  },
  {
   "cell_type": "code",
   "execution_count": 3,
   "id": "bfc88ed4",
   "metadata": {},
   "outputs": [
    {
     "name": "stdout",
     "output_type": "stream",
     "text": [
      "x =  10\n",
      "End of block\n"
     ]
    }
   ],
   "source": [
    "x=10\n",
    "if x == 10:\n",
    "    print('x = ', x)\n",
    "    print('End of block')\n",
    "else:\n",
    "    print('x != ', x)\n",
    "    print('End of block')"
   ]
  },
  {
   "cell_type": "code",
   "execution_count": 4,
   "id": "2afa3bb4",
   "metadata": {},
   "outputs": [
    {
     "name": "stdout",
     "output_type": "stream",
     "text": [
      "x =  10\n",
      "End of block\n",
      "y =  5.0\n",
      "inside the inner if\n",
      "outside the inner if\n"
     ]
    }
   ],
   "source": [
    "x=10\n",
    "if x == 10:\n",
    "    print('x = ', x)\n",
    "    print('End of block')\n",
    "    y = x/2\n",
    "    if y == 5:\n",
    "        print('y = ', y)\n",
    "        print('inside the inner if')\n",
    "    print('outside the inner if')\n",
    "else:\n",
    "    print('x != ', x)\n",
    "    print('End of block')"
   ]
  },
  {
   "cell_type": "code",
   "execution_count": 5,
   "id": "fe563335",
   "metadata": {},
   "outputs": [
    {
     "name": "stdout",
     "output_type": "stream",
     "text": [
      "loss in business\n"
     ]
    }
   ],
   "source": [
    "invest = 100\n",
    "income = 80\n",
    "if invest > income:\n",
    "    print('loss in business')\n",
    "else:\n",
    "    print('Profit in business')"
   ]
  },
  {
   "cell_type": "code",
   "execution_count": 8,
   "id": "74be7175",
   "metadata": {},
   "outputs": [
    {
     "name": "stdout",
     "output_type": "stream",
     "text": [
      "breakEven\n"
     ]
    }
   ],
   "source": [
    "invest = 100\n",
    "income = 100\n",
    "if invest > income:\n",
    "    print('loss in business')\n",
    "elif invest == income:\n",
    "    print('breakEven')\n",
    "else:\n",
    "    print('Profit in business')"
   ]
  },
  {
   "cell_type": "code",
   "execution_count": 9,
   "id": "a32c420f",
   "metadata": {},
   "outputs": [
    {
     "name": "stdout",
     "output_type": "stream",
     "text": [
      "loss in business\n"
     ]
    }
   ],
   "source": [
    "invest = 90\n",
    "income = 100\n",
    "if invest > income:\n",
    "    print('loss making business')\n",
    "elif invest == income:\n",
    "    print('breakEven')\n",
    "elif invest < income:\n",
    "    print('loss in business')\n",
    "else:\n",
    "    print('Profit in business')"
   ]
  },
  {
   "cell_type": "code",
   "execution_count": 10,
   "id": "55b85eeb",
   "metadata": {},
   "outputs": [
    {
     "name": "stdout",
     "output_type": "stream",
     "text": [
      "breakEven\n"
     ]
    }
   ],
   "source": [
    "invest = 100\n",
    "income = 100\n",
    "if invest > income:\n",
    "    print('loss making business')\n",
    "elif invest == income:\n",
    "    print('breakEven')\n",
    "elif invest < income:\n",
    "    print('loss in business')\n",
    "else:\n",
    "    print('Profit in business')"
   ]
  },
  {
   "cell_type": "code",
   "execution_count": 11,
   "id": "d56cdf97",
   "metadata": {},
   "outputs": [
    {
     "name": "stdout",
     "output_type": "stream",
     "text": [
      "Enter the number10\n",
      "10 is even number\n"
     ]
    }
   ],
   "source": [
    "number = int(input('Enter the number'))\n",
    "if number % 2 == 0:\n",
    "    print('{} is even number'.format(number))\n",
    "else:\n",
    "    print('{} is odd number'.format(number))"
   ]
  },
  {
   "cell_type": "code",
   "execution_count": 4,
   "id": "2a897a34",
   "metadata": {},
   "outputs": [
    {
     "name": "stdout",
     "output_type": "stream",
     "text": [
      "enter the number for factorial5\n",
      "fact of n is:  1\n",
      "fact of n is:  2\n",
      "fact of n is:  6\n",
      "fact of n is:  24\n",
      "fact of n is:  120\n",
      "Final factorial of n is:  120\n"
     ]
    }
   ],
   "source": [
    "#simple factorial prog using for loop\n",
    "\n",
    "n = int(input('enter the number for factorial' ))\n",
    "fact = 1\n",
    "for i in range (1, n +1):\n",
    "    fact = fact * i\n",
    "    print('fact of n is: ',fact)\n",
    "print('Final factorial of n is: ',fact)"
   ]
  },
  {
   "cell_type": "code",
   "execution_count": 1,
   "id": "4087c77a",
   "metadata": {},
   "outputs": [
    {
     "name": "stdout",
     "output_type": "stream",
     "text": [
      "count: 5\n",
      "count: 4\n",
      "count: 3\n",
      "count: 2\n",
      "count: 1\n"
     ]
    }
   ],
   "source": [
    "#while loop\n",
    "count = 5\n",
    "while count:\n",
    "    print('count:', count)\n",
    "    count-=1"
   ]
  },
  {
   "cell_type": "code",
   "execution_count": 2,
   "id": "445d74f4",
   "metadata": {},
   "outputs": [
    {
     "name": "stdout",
     "output_type": "stream",
     "text": [
      "Enter the number5\n",
      "Factorian your number is:  5\n",
      "Factorian your number is:  20\n",
      "Factorian your number is:  60\n",
      "Factorian your number is:  120\n",
      "Factorian your number is:  120\n"
     ]
    }
   ],
   "source": [
    "num = int(input('Enter the number'))\n",
    "fact = 1\n",
    "while num > 0:\n",
    "    fact = fact * num\n",
    "    num -= 1\n",
    "    print('Factorial of your number is: ', fact)\n",
    "    "
   ]
  },
  {
   "cell_type": "code",
   "execution_count": 6,
   "id": "f781084c",
   "metadata": {},
   "outputs": [
    {
     "name": "stdout",
     "output_type": "stream",
     "text": [
      "wear mask\n",
      "maintain social distance\n",
      "Avoid social gathering\n",
      "is vaccone available?yes\n",
      "Hurray!!!!✌️\n"
     ]
    }
   ],
   "source": [
    "not_vaccinated = True\n",
    "while not_vaccinated:\n",
    "    print('wear mask')\n",
    "    print('maintain social distance')\n",
    "    print('Avoid social gathering')\n",
    "    check = input('is vaccone available?')\n",
    "    if check == 'yes':\n",
    "        print('Hurray!!!!✌️')\n",
    "        break\n",
    "    time.sleep(1)"
   ]
  },
  {
   "cell_type": "code",
   "execution_count": 12,
   "id": "c5a82643",
   "metadata": {},
   "outputs": [
    {
     "name": "stdout",
     "output_type": "stream",
     "text": [
      "wear mask\n",
      "maintain social distance\n",
      "Avoid social gathering\n",
      "is vaccone available?no\n"
     ]
    },
    {
     "ename": "NameError",
     "evalue": "name 'time' is not defined",
     "output_type": "error",
     "traceback": [
      "\u001b[0;31m---------------------------------------------------------------------------\u001b[0m",
      "\u001b[0;31mNameError\u001b[0m                                 Traceback (most recent call last)",
      "\u001b[0;32m/var/folders/ls/y2r6d6y16g5g_tg8x5hv79hw0000gq/T/ipykernel_2385/1419287203.py\u001b[0m in \u001b[0;36m<module>\u001b[0;34m\u001b[0m\n\u001b[1;32m      8\u001b[0m         \u001b[0mprint\u001b[0m\u001b[0;34m(\u001b[0m\u001b[0;34m'Hurray!!!!✌️'\u001b[0m\u001b[0;34m)\u001b[0m\u001b[0;34m\u001b[0m\u001b[0;34m\u001b[0m\u001b[0m\n\u001b[1;32m      9\u001b[0m         \u001b[0;32mbreak\u001b[0m\u001b[0;34m\u001b[0m\u001b[0;34m\u001b[0m\u001b[0m\n\u001b[0;32m---> 10\u001b[0;31m     \u001b[0mtime\u001b[0m\u001b[0;34m.\u001b[0m\u001b[0msleep\u001b[0m\u001b[0;34m(\u001b[0m\u001b[0;36m1\u001b[0m\u001b[0;34m)\u001b[0m\u001b[0;34m\u001b[0m\u001b[0;34m\u001b[0m\u001b[0m\n\u001b[0m",
      "\u001b[0;31mNameError\u001b[0m: name 'time' is not defined"
     ]
    }
   ],
   "source": [
    "not_vaccinated = True\n",
    "while not_vaccinated:\n",
    "    print('wear mask')\n",
    "    print('maintain social distance')\n",
    "    print('Avoid social gathering')\n",
    "    check = input('is vaccone available?')\n",
    "    if check == 'yes':\n",
    "        print('Hurray!!!!✌️')\n",
    "        break\n",
    "    time.sleep(1)"
   ]
  },
  {
   "cell_type": "code",
   "execution_count": 8,
   "id": "ea63ee21",
   "metadata": {},
   "outputs": [
    {
     "data": {
      "text/plain": [
       "[1, 2, 'yes', True]"
      ]
     },
     "execution_count": 8,
     "metadata": {},
     "output_type": "execute_result"
    }
   ],
   "source": [
    "#list almost similar to array but list can contain different types of data types in it.\n",
    "l = [1,2,'yes', True]\n",
    "l"
   ]
  },
  {
   "cell_type": "code",
   "execution_count": 10,
   "id": "ab23cd53",
   "metadata": {},
   "outputs": [
    {
     "data": {
      "text/plain": [
       "list"
      ]
     },
     "execution_count": 10,
     "metadata": {},
     "output_type": "execute_result"
    }
   ],
   "source": [
    "type(l)"
   ]
  },
  {
   "cell_type": "code",
   "execution_count": 26,
   "id": "550f1a9c",
   "metadata": {},
   "outputs": [],
   "source": [
    "l.append(94)"
   ]
  },
  {
   "cell_type": "code",
   "execution_count": 27,
   "id": "1b775108",
   "metadata": {},
   "outputs": [
    {
     "data": {
      "text/plain": [
       "[1, 2, 'yes', 5, True, 9, 0, 94]"
      ]
     },
     "execution_count": 27,
     "metadata": {},
     "output_type": "execute_result"
    }
   ],
   "source": [
    "l"
   ]
  },
  {
   "cell_type": "code",
   "execution_count": 14,
   "id": "f08fb3f1",
   "metadata": {},
   "outputs": [
    {
     "data": {
      "text/plain": [
       "1"
      ]
     },
     "execution_count": 14,
     "metadata": {},
     "output_type": "execute_result"
    }
   ],
   "source": [
    "l[0]"
   ]
  },
  {
   "cell_type": "code",
   "execution_count": 15,
   "id": "9428483d",
   "metadata": {},
   "outputs": [
    {
     "data": {
      "text/plain": [
       "'y'"
      ]
     },
     "execution_count": 15,
     "metadata": {},
     "output_type": "execute_result"
    }
   ],
   "source": [
    "l[2][0]"
   ]
  },
  {
   "cell_type": "code",
   "execution_count": 16,
   "id": "79687542",
   "metadata": {},
   "outputs": [
    {
     "data": {
      "text/plain": [
       "True"
      ]
     },
     "execution_count": 16,
     "metadata": {},
     "output_type": "execute_result"
    }
   ],
   "source": [
    "l[-1]"
   ]
  },
  {
   "cell_type": "code",
   "execution_count": 17,
   "id": "4d661fb4",
   "metadata": {},
   "outputs": [
    {
     "data": {
      "text/plain": [
       "'yes'"
      ]
     },
     "execution_count": 17,
     "metadata": {},
     "output_type": "execute_result"
    }
   ],
   "source": [
    "l[-2]"
   ]
  },
  {
   "cell_type": "code",
   "execution_count": 18,
   "id": "0d8284d9",
   "metadata": {},
   "outputs": [
    {
     "data": {
      "text/plain": [
       "[True, 'yes', 2, 1]"
      ]
     },
     "execution_count": 18,
     "metadata": {},
     "output_type": "execute_result"
    }
   ],
   "source": [
    "l[::-1]"
   ]
  },
  {
   "cell_type": "code",
   "execution_count": 19,
   "id": "651ad313",
   "metadata": {},
   "outputs": [],
   "source": [
    "l.insert(3,5)"
   ]
  },
  {
   "cell_type": "code",
   "execution_count": 21,
   "id": "110c2e3f",
   "metadata": {},
   "outputs": [
    {
     "data": {
      "text/plain": [
       "[1, 2, 'yes', 5, True]"
      ]
     },
     "execution_count": 21,
     "metadata": {},
     "output_type": "execute_result"
    }
   ],
   "source": [
    "l"
   ]
  },
  {
   "cell_type": "code",
   "execution_count": 28,
   "id": "1dfb6729",
   "metadata": {},
   "outputs": [
    {
     "data": {
      "text/plain": [
       "140184338397168"
      ]
     },
     "execution_count": 28,
     "metadata": {},
     "output_type": "execute_result"
    }
   ],
   "source": [
    "#string\n",
    "d = 'divyansh'\n",
    "id(d)"
   ]
  },
  {
   "cell_type": "code",
   "execution_count": 29,
   "id": "9834a732",
   "metadata": {},
   "outputs": [
    {
     "data": {
      "text/plain": [
       "'d'"
      ]
     },
     "execution_count": 29,
     "metadata": {},
     "output_type": "execute_result"
    }
   ],
   "source": [
    "d[0]"
   ]
  },
  {
   "cell_type": "code",
   "execution_count": 31,
   "id": "09094101",
   "metadata": {},
   "outputs": [
    {
     "data": {
      "text/plain": [
       "'divyansh'"
      ]
     },
     "execution_count": 31,
     "metadata": {},
     "output_type": "execute_result"
    }
   ],
   "source": [
    "d[::]"
   ]
  },
  {
   "cell_type": "code",
   "execution_count": 32,
   "id": "c7e8c46a",
   "metadata": {},
   "outputs": [
    {
     "data": {
      "text/plain": [
       "'hsnayvid'"
      ]
     },
     "execution_count": 32,
     "metadata": {},
     "output_type": "execute_result"
    }
   ],
   "source": [
    "d[::-1]"
   ]
  },
  {
   "cell_type": "code",
   "execution_count": 33,
   "id": "f6fe6c3c",
   "metadata": {},
   "outputs": [
    {
     "data": {
      "text/plain": [
       "140184338397168"
      ]
     },
     "execution_count": 33,
     "metadata": {},
     "output_type": "execute_result"
    }
   ],
   "source": [
    "id(d)"
   ]
  },
  {
   "cell_type": "code",
   "execution_count": 35,
   "id": "3e1c1ef1",
   "metadata": {},
   "outputs": [
    {
     "data": {
      "text/plain": [
       "140184338398384"
      ]
     },
     "execution_count": 35,
     "metadata": {},
     "output_type": "execute_result"
    }
   ],
   "source": [
    "d = 'Sarla'\n",
    "id(d)"
   ]
  },
  {
   "cell_type": "code",
   "execution_count": null,
   "id": "22d99198",
   "metadata": {},
   "outputs": [],
   "source": [
    "#from the above 2 eg. we saw that although we modify the values of string var\n",
    "#d but the memory location of both the d with different vals is different. Hence strings are immutable."
   ]
  },
  {
   "cell_type": "code",
   "execution_count": 36,
   "id": "a757b66a",
   "metadata": {},
   "outputs": [
    {
     "data": {
      "text/plain": [
       "140184338409920"
      ]
     },
     "execution_count": 36,
     "metadata": {},
     "output_type": "execute_result"
    }
   ],
   "source": [
    "l1 = [1,2,3]\n",
    "id(l1)"
   ]
  },
  {
   "cell_type": "code",
   "execution_count": 37,
   "id": "7f0159a8",
   "metadata": {},
   "outputs": [
    {
     "data": {
      "text/plain": [
       "[1, 2, 300]"
      ]
     },
     "execution_count": 37,
     "metadata": {},
     "output_type": "execute_result"
    }
   ],
   "source": [
    "l1[2] = 300\n",
    "l1"
   ]
  },
  {
   "cell_type": "code",
   "execution_count": 39,
   "id": "85585108",
   "metadata": {},
   "outputs": [
    {
     "data": {
      "text/plain": [
       "140184338409920"
      ]
     },
     "execution_count": 39,
     "metadata": {},
     "output_type": "execute_result"
    }
   ],
   "source": [
    "id(l1)"
   ]
  },
  {
   "cell_type": "code",
   "execution_count": 41,
   "id": "29276359",
   "metadata": {},
   "outputs": [
    {
     "data": {
      "text/plain": [
       "'0x7f7f35b1a9c0'"
      ]
     },
     "execution_count": 41,
     "metadata": {},
     "output_type": "execute_result"
    }
   ],
   "source": [
    "hex(id(l1))"
   ]
  },
  {
   "cell_type": "code",
   "execution_count": 43,
   "id": "abdba6ac",
   "metadata": {},
   "outputs": [],
   "source": [
    "#assigning empty list to a variable\n",
    "new_l = []\n",
    "new_l1 = list()"
   ]
  },
  {
   "cell_type": "code",
   "execution_count": 45,
   "id": "07ac19cf",
   "metadata": {},
   "outputs": [
    {
     "data": {
      "text/plain": [
       "[]"
      ]
     },
     "execution_count": 45,
     "metadata": {},
     "output_type": "execute_result"
    }
   ],
   "source": [
    "new_l"
   ]
  },
  {
   "cell_type": "code",
   "execution_count": 46,
   "id": "82b0e024",
   "metadata": {},
   "outputs": [
    {
     "data": {
      "text/plain": [
       "[]"
      ]
     },
     "execution_count": 46,
     "metadata": {},
     "output_type": "execute_result"
    }
   ],
   "source": [
    "new_l1"
   ]
  },
  {
   "cell_type": "code",
   "execution_count": 48,
   "id": "774aaaa7",
   "metadata": {},
   "outputs": [
    {
     "data": {
      "text/plain": [
       "[1, 2, 34]"
      ]
     },
     "execution_count": 48,
     "metadata": {},
     "output_type": "execute_result"
    }
   ],
   "source": [
    "new_l = [1,2,34]\n",
    "new_l"
   ]
  },
  {
   "cell_type": "code",
   "execution_count": 49,
   "id": "34450285",
   "metadata": {},
   "outputs": [
    {
     "data": {
      "text/plain": [
       "[22]"
      ]
     },
     "execution_count": 49,
     "metadata": {},
     "output_type": "execute_result"
    }
   ],
   "source": [
    "new_l1.append(22)\n",
    "new_l1"
   ]
  },
  {
   "cell_type": "code",
   "execution_count": 51,
   "id": "1f3d6e18",
   "metadata": {},
   "outputs": [
    {
     "data": {
      "text/plain": [
       "[22, [8, 5, 4], [8, 5, 4]]"
      ]
     },
     "execution_count": 51,
     "metadata": {},
     "output_type": "execute_result"
    }
   ],
   "source": [
    "new_l1.append([8,5,4])\n",
    "new_l1"
   ]
  },
  {
   "cell_type": "code",
   "execution_count": 52,
   "id": "d3383216",
   "metadata": {},
   "outputs": [
    {
     "data": {
      "text/plain": [
       "[22, [8, 5, 4]]"
      ]
     },
     "execution_count": 52,
     "metadata": {},
     "output_type": "execute_result"
    }
   ],
   "source": [
    "new_l1.pop()\n",
    "new_l1\n"
   ]
  },
  {
   "cell_type": "code",
   "execution_count": 53,
   "id": "78d05466",
   "metadata": {},
   "outputs": [
    {
     "data": {
      "text/plain": [
       "[1, 2, 34, 22, [8, 5, 4]]"
      ]
     },
     "execution_count": 53,
     "metadata": {},
     "output_type": "execute_result"
    }
   ],
   "source": [
    "new_l.extend(new_l1)\n",
    "new_l"
   ]
  },
  {
   "cell_type": "code",
   "execution_count": 55,
   "id": "73f24e63",
   "metadata": {},
   "outputs": [
    {
     "data": {
      "text/plain": [
       "True"
      ]
     },
     "execution_count": 55,
     "metadata": {},
     "output_type": "execute_result"
    }
   ],
   "source": [
    "isinstance(new_l, list)"
   ]
  },
  {
   "cell_type": "code",
   "execution_count": null,
   "id": "f764f2b3",
   "metadata": {},
   "outputs": [],
   "source": [
    "lst = list"
   ]
  },
  {
   "cell_type": "code",
   "execution_count": 2,
   "id": "0bf7da0e",
   "metadata": {},
   "outputs": [
    {
     "name": "stdout",
     "output_type": "stream",
     "text": [
      "1. Create the employee information\n",
      "2. Update the employee details\n",
      "3. Delete Employee\n",
      "4. Display\n",
      "5. Exit\n",
      "Enter your choice[1-4]:5\n"
     ]
    }
   ],
   "source": [
    "# create emp pgm\n",
    "emp_info = {}\n",
    "while True:\n",
    "    print(\"1. Create the employee information\")\n",
    "    print(\"2. Update the employee details\")\n",
    "    print(\"3. Delete Employee\")\n",
    "    print(\"4. Display\")\n",
    "    print(\"5. Exit\")\n",
    "    ch = int(input(\"Enter your choice[1-4]:\"))\n",
    "    if ch==1:\n",
    "        name = input(\"Enter the name:\")\n",
    "        emp_id = int(input(\"Enter employee id:\"))\n",
    "        ph=input(\"Enter the phone number:\")\n",
    "        tech = input(\"Technologies [comma seprated e.g: C++, python, java]\")\n",
    "        emp_info[emp_id] = {\"name\":name, \"phone\":ph, \"tech\": tech.split(\",\")}\n",
    "    elif ch==2:\n",
    "        emp_id = int(input(\"Whose details you want to update?. Please enter emp_id:\"))\n",
    "        if emp_id not in emp_info:\n",
    "            print('employee id missing')\n",
    "            break\n",
    "                \n",
    "        rec = emp_info[emp_id]\n",
    "        for key, value in rec.items():\n",
    "            new = input(\"{}({})\".format(key, value))\n",
    "            emp_info[emp_id][key] = value if new == '' else new\n",
    "    elif ch==3:\n",
    "        pass\n",
    "        # take input from user as emp_id to be deleted\n",
    "        emp_id = int(input(\"Whose details you want to delete?. Please enter emp_id:\"))\n",
    "        \n",
    "        # check emp_id present in dict or not\n",
    "        if emp_id not in emp_info:\n",
    "            print('employee id missing')\n",
    "            break\n",
    "            \n",
    "        # perform deletion using del method or pop\n",
    "        del emp_info[emp_id]\n",
    "        print('employee id deleted successfully ')\n",
    "    elif ch ==4:\n",
    "        print(emp_info)\n",
    "    else:\n",
    "        break"
   ]
  },
  {
   "cell_type": "code",
   "execution_count": 5,
   "id": "93404005",
   "metadata": {},
   "outputs": [
    {
     "name": "stdout",
     "output_type": "stream",
     "text": [
      "0\n",
      "1\n",
      "2\n",
      "3\n",
      "4\n",
      "5\n",
      "6\n",
      "7\n",
      "8\n",
      "9\n"
     ]
    }
   ],
   "source": [
    "for i in range(10):\n",
    "    print(i)"
   ]
  },
  {
   "cell_type": "code",
   "execution_count": 6,
   "id": "587d36f7",
   "metadata": {},
   "outputs": [
    {
     "data": {
      "text/plain": [
       "[0, 1, 2, 3, 4, 5, 6, 7, 8, 9]"
      ]
     },
     "execution_count": 6,
     "metadata": {},
     "output_type": "execute_result"
    }
   ],
   "source": [
    "[i for i in range(10)]"
   ]
  },
  {
   "cell_type": "code",
   "execution_count": 8,
   "id": "a1a634ae",
   "metadata": {},
   "outputs": [
    {
     "data": {
      "text/plain": [
       "[0, 2, 4, 6, 8]"
      ]
     },
     "execution_count": 8,
     "metadata": {},
     "output_type": "execute_result"
    }
   ],
   "source": [
    "[i for i in range(10) if i%2 == 0]"
   ]
  },
  {
   "cell_type": "code",
   "execution_count": 10,
   "id": "7f1bd38e",
   "metadata": {},
   "outputs": [
    {
     "name": "stdout",
     "output_type": "stream",
     "text": [
      "0\n",
      "2\n",
      "4\n",
      "6\n",
      "8\n"
     ]
    }
   ],
   "source": [
    "for i in range(10):\n",
    "    if i%2 == 0:\n",
    "        print(i)"
   ]
  },
  {
   "cell_type": "code",
   "execution_count": 12,
   "id": "e9d8262f",
   "metadata": {},
   "outputs": [
    {
     "name": "stdout",
     "output_type": "stream",
     "text": [
      "10\n"
     ]
    }
   ],
   "source": [
    "x=10\n",
    "y=20\n",
    "if x>y:\n",
    "    print(x-y)\n",
    "else:\n",
    "    print(y-x)"
   ]
  },
  {
   "cell_type": "code",
   "execution_count": 13,
   "id": "04184f29",
   "metadata": {},
   "outputs": [
    {
     "name": "stdout",
     "output_type": "stream",
     "text": [
      "10\n"
     ]
    }
   ],
   "source": [
    "print(x-y if x>y else y-x)"
   ]
  },
  {
   "cell_type": "code",
   "execution_count": 2,
   "id": "1abdf204",
   "metadata": {},
   "outputs": [
    {
     "name": "stdout",
     "output_type": "stream",
     "text": [
      "Enter the number to be squared3\n",
      "square:::: [1, 4, 9, 16, 25, 36, 49, 64]\n"
     ]
    }
   ],
   "source": [
    "n = [1,2,3,4,5,6,7,8]\n",
    "num = int(input('Enter the number to be squared'))\n",
    "sq = [num**2 for num in n]\n",
    "print('square::::',sq)"
   ]
  },
  {
   "cell_type": "code",
   "execution_count": null,
   "id": "0ac5146c",
   "metadata": {},
   "outputs": [],
   "source": [
    "def discount(total,discount,*args, **kwargs):\n",
    "    print(\"total\", total)\n",
    "    print(\"discount\", discount)\n",
    "    print(args)\n",
    "    print(kwargs)\n",
    "    for i in args:\n",
    "        print(i)\n",
    "    print(\"ph\", kwargs['ph'])\n",
    "    print(\"addr\", kwargs['addr'])"
   ]
  },
  {
   "cell_type": "code",
   "execution_count": 1,
   "id": "9b645bcc",
   "metadata": {},
   "outputs": [
    {
     "ename": "NameError",
     "evalue": "name 'discount' is not defined",
     "output_type": "error",
     "traceback": [
      "\u001b[0;31m---------------------------------------------------------------------------\u001b[0m",
      "\u001b[0;31mNameError\u001b[0m                                 Traceback (most recent call last)",
      "\u001b[0;32m/var/folders/ls/y2r6d6y16g5g_tg8x5hv79hw0000gq/T/ipykernel_1573/139633865.py\u001b[0m in \u001b[0;36m<module>\u001b[0;34m\u001b[0m\n\u001b[0;32m----> 1\u001b[0;31m \u001b[0mdiscount\u001b[0m\u001b[0;34m(\u001b[0m\u001b[0;36m450\u001b[0m\u001b[0;34m,\u001b[0m\u001b[0;36m12\u001b[0m\u001b[0;34m,\u001b[0m \u001b[0;36m4\u001b[0m\u001b[0;34m,\u001b[0m\u001b[0;36m3\u001b[0m\u001b[0;34m,\u001b[0m\u001b[0;36m2\u001b[0m\u001b[0;34m,\u001b[0m \u001b[0;36m2\u001b[0m\u001b[0;34m)\u001b[0m\u001b[0;34m\u001b[0m\u001b[0;34m\u001b[0m\u001b[0m\n\u001b[0m",
      "\u001b[0;31mNameError\u001b[0m: name 'discount' is not defined"
     ]
    }
   ],
   "source": [
    "discount(450,12, 4,3,2, 2)"
   ]
  },
  {
   "cell_type": "code",
   "execution_count": 37,
   "id": "fa3801c1",
   "metadata": {},
   "outputs": [],
   "source": [
    "def sq(x):\n",
    "    return x**2"
   ]
  },
  {
   "cell_type": "code",
   "execution_count": 38,
   "id": "9dde1dac",
   "metadata": {},
   "outputs": [
    {
     "data": {
      "text/plain": [
       "[4, 9, 16, 25, 36, 49]"
      ]
     },
     "execution_count": 38,
     "metadata": {},
     "output_type": "execute_result"
    }
   ],
   "source": [
    "list(map(sq,(2,3,4,5,6,7)))"
   ]
  },
  {
   "cell_type": "code",
   "execution_count": null,
   "id": "a11bd9f5",
   "metadata": {},
   "outputs": [],
   "source": []
  },
  {
   "cell_type": "code",
   "execution_count": null,
   "id": "d86e7ead",
   "metadata": {},
   "outputs": [],
   "source": []
  },
  {
   "cell_type": "code",
   "execution_count": null,
   "id": "ee5d2da0",
   "metadata": {},
   "outputs": [],
   "source": []
  },
  {
   "cell_type": "code",
   "execution_count": null,
   "id": "c2e5262f",
   "metadata": {},
   "outputs": [],
   "source": []
  },
  {
   "cell_type": "code",
   "execution_count": 7,
   "id": "9b7ac970",
   "metadata": {},
   "outputs": [],
   "source": [
    "def outer():\n",
    "    j=10\n",
    "    i=8\n",
    "    def inner():\n",
    "        print('i = ',i)\n",
    "        print('Inside inner function')\n",
    "    def inner2():\n",
    "        print('Inside outer function')\n",
    "    \n",
    "    inner()\n",
    "    inner2()\n",
    "    return inner, inner2\n"
   ]
  },
  {
   "cell_type": "code",
   "execution_count": 8,
   "id": "a79b92bb",
   "metadata": {},
   "outputs": [
    {
     "name": "stdout",
     "output_type": "stream",
     "text": [
      "i =  8\n",
      "Inside inner function\n",
      "Inside outer function\n"
     ]
    }
   ],
   "source": [
    "p = outer()"
   ]
  },
  {
   "cell_type": "code",
   "execution_count": 21,
   "id": "5d069ba7",
   "metadata": {},
   "outputs": [],
   "source": [
    "def outer(f):\n",
    "    def inner():\n",
    "        result = f()\n",
    "        return result**2\n",
    "    return inner"
   ]
  },
  {
   "cell_type": "code",
   "execution_count": 22,
   "id": "b369c123",
   "metadata": {},
   "outputs": [],
   "source": [
    "def num():\n",
    "    return 5"
   ]
  },
  {
   "cell_type": "code",
   "execution_count": 23,
   "id": "3dc23875",
   "metadata": {},
   "outputs": [],
   "source": [
    "p=outer(num)"
   ]
  },
  {
   "cell_type": "code",
   "execution_count": 24,
   "id": "d02606d8",
   "metadata": {},
   "outputs": [
    {
     "data": {
      "text/plain": [
       "<function __main__.outer.<locals>.inner()>"
      ]
     },
     "execution_count": 24,
     "metadata": {},
     "output_type": "execute_result"
    }
   ],
   "source": [
    "p"
   ]
  },
  {
   "cell_type": "code",
   "execution_count": 25,
   "id": "5e9f987e",
   "metadata": {},
   "outputs": [
    {
     "data": {
      "text/plain": [
       "25"
      ]
     },
     "execution_count": 25,
     "metadata": {},
     "output_type": "execute_result"
    }
   ],
   "source": [
    "p()"
   ]
  },
  {
   "cell_type": "code",
   "execution_count": 27,
   "id": "52b5497a",
   "metadata": {},
   "outputs": [],
   "source": [
    "# evaluating the 21 lines prog using decorator\n",
    "def outer(f):\n",
    "    def inner():\n",
    "        result = f()\n",
    "        return result**2\n",
    "    return inner"
   ]
  },
  {
   "cell_type": "code",
   "execution_count": 29,
   "id": "848e0e6d",
   "metadata": {},
   "outputs": [],
   "source": [
    "@outer\n",
    "def num():\n",
    "    return 5"
   ]
  },
  {
   "cell_type": "code",
   "execution_count": 31,
   "id": "dfbc2761",
   "metadata": {},
   "outputs": [
    {
     "name": "stdout",
     "output_type": "stream",
     "text": [
      "25\n"
     ]
    }
   ],
   "source": [
    "print(num())"
   ]
  },
  {
   "cell_type": "code",
   "execution_count": 33,
   "id": "3b36afaf",
   "metadata": {},
   "outputs": [],
   "source": [
    "# evaluating the 21 lines prog using decorator with passing argments from the referencing func\n",
    "def outer(f):\n",
    "    def inner(n1,n2):\n",
    "        result = f(n1,n2)\n",
    "        return result**2\n",
    "    return inner"
   ]
  },
  {
   "cell_type": "code",
   "execution_count": 35,
   "id": "33aec88c",
   "metadata": {},
   "outputs": [],
   "source": [
    "@outer\n",
    "def num(n1,n2):\n",
    "    return n1+n2+5"
   ]
  },
  {
   "cell_type": "code",
   "execution_count": 3,
   "id": "b472c94f",
   "metadata": {},
   "outputs": [
    {
     "ename": "NameError",
     "evalue": "name 'num' is not defined",
     "output_type": "error",
     "traceback": [
      "\u001b[0;31m---------------------------------------------------------------------------\u001b[0m",
      "\u001b[0;31mNameError\u001b[0m                                 Traceback (most recent call last)",
      "\u001b[0;32m/var/folders/ls/y2r6d6y16g5g_tg8x5hv79hw0000gq/T/ipykernel_1267/750502706.py\u001b[0m in \u001b[0;36m<module>\u001b[0;34m\u001b[0m\n\u001b[0;32m----> 1\u001b[0;31m \u001b[0mprint\u001b[0m\u001b[0;34m(\u001b[0m\u001b[0mnum\u001b[0m\u001b[0;34m(\u001b[0m\u001b[0;36m2\u001b[0m\u001b[0;34m,\u001b[0m\u001b[0;36m3\u001b[0m\u001b[0;34m)\u001b[0m\u001b[0;34m)\u001b[0m\u001b[0;34m\u001b[0m\u001b[0;34m\u001b[0m\u001b[0m\n\u001b[0m",
      "\u001b[0;31mNameError\u001b[0m: name 'num' is not defined"
     ]
    }
   ],
   "source": [
    "print(num(2,3))"
   ]
  },
  {
   "cell_type": "code",
   "execution_count": 4,
   "id": "26707746",
   "metadata": {},
   "outputs": [],
   "source": [
    "x=5"
   ]
  },
  {
   "cell_type": "code",
   "execution_count": 5,
   "id": "c0d793a0",
   "metadata": {},
   "outputs": [
    {
     "data": {
      "text/plain": [
       "5"
      ]
     },
     "execution_count": 5,
     "metadata": {},
     "output_type": "execute_result"
    }
   ],
   "source": [
    "x"
   ]
  },
  {
   "cell_type": "code",
   "execution_count": 6,
   "id": "25102e25",
   "metadata": {},
   "outputs": [],
   "source": [
    "x='D$K'"
   ]
  },
  {
   "cell_type": "code",
   "execution_count": 7,
   "id": "9f11a70a",
   "metadata": {},
   "outputs": [
    {
     "data": {
      "text/plain": [
       "'D$K'"
      ]
     },
     "execution_count": 7,
     "metadata": {},
     "output_type": "execute_result"
    }
   ],
   "source": [
    "x"
   ]
  },
  {
   "cell_type": "code",
   "execution_count": 15,
   "id": "b857adcd",
   "metadata": {},
   "outputs": [
    {
     "name": "stdout",
     "output_type": "stream",
     "text": [
      "abcd\n"
     ]
    }
   ],
   "source": [
    "L=['a','b','c','d']\n",
    "print(''.join(L))"
   ]
  },
  {
   "cell_type": "code",
   "execution_count": 13,
   "id": "a1788fe2",
   "metadata": {},
   "outputs": [
    {
     "data": {
      "text/plain": [
       "['a', 'b', 'c', 'd']"
      ]
     },
     "execution_count": 13,
     "metadata": {},
     "output_type": "execute_result"
    }
   ],
   "source": [
    "L"
   ]
  },
  {
   "cell_type": "code",
   "execution_count": 17,
   "id": "8d7ee100",
   "metadata": {},
   "outputs": [],
   "source": [
    "#operators in Python\n",
    "\n",
    "# 1. Arithmetic Operators:\n",
    "# 2. Assignment Operators:\n",
    "# 3. Comparision Operators:\n",
    "# 4. Logical Operators: and, or, not\n",
    "# 5. Identity Operators: is, is not\n",
    "# 6. Membership Operators: in, not in\n",
    "# 7. Bitwise Operators: &, |, ^(XOR), ~(negation), << (left shift), >> (right shift)"
   ]
  },
  {
   "cell_type": "code",
   "execution_count": 3,
   "id": "a38c4769",
   "metadata": {},
   "outputs": [
    {
     "name": "stdout",
     "output_type": "stream",
     "text": [
      "Python is simple\n",
      "val of s  Python is simple abc\n",
      "new assigned val of s is  java\n",
      "java\n"
     ]
    }
   ],
   "source": [
    "def f():\n",
    "    global s\n",
    "    s += ' abc'\n",
    "    print('val of s ', s)\n",
    "    s = 'java'\n",
    "    print('new assigned val of s is ', s)\n",
    "    \n",
    "s = 'Python is simple'\n",
    "print(s)\n",
    "f()\n",
    "print(s)"
   ]
  },
  {
   "cell_type": "code",
   "execution_count": 5,
   "id": "ca97abef",
   "metadata": {},
   "outputs": [
    {
     "name": "stdout",
     "output_type": "stream",
     "text": [
      "Global  1\n",
      "Inside f()  1\n",
      "Global after calling f  1\n",
      "Inside g() 2\n",
      "Global after calling f  1\n",
      "Inside h() 3\n",
      "Global after calling f  3\n"
     ]
    }
   ],
   "source": [
    "#local vs global\n",
    "\n",
    "a=1\n",
    "\n",
    "def f():\n",
    "    print('Inside f() ', a)\n",
    "    \n",
    "def g():\n",
    "    a=2 #local scope\n",
    "    print('Inside g()', a)\n",
    "    \n",
    "def h():\n",
    "    global a\n",
    "    a=3\n",
    "    print('Inside h()', a)\n",
    "    \n",
    "print('Global ', a)\n",
    "f()\n",
    "print('Global after calling f ', a)\n",
    "g()\n",
    "print('Global after calling f ', a)\n",
    "h()\n",
    "print('Global after calling f ', a)"
   ]
  },
  {
   "cell_type": "code",
   "execution_count": 9,
   "id": "f7a0e88b",
   "metadata": {},
   "outputs": [],
   "source": [
    "#iterator in python\n",
    "# there r 2 methods/function of iterators\n",
    "# 1. iter\n",
    "# 2. next"
   ]
  },
  {
   "cell_type": "code",
   "execution_count": 10,
   "id": "c1ce54c6",
   "metadata": {},
   "outputs": [
    {
     "data": {
      "text/plain": [
       "list_iterator"
      ]
     },
     "execution_count": 10,
     "metadata": {},
     "output_type": "execute_result"
    }
   ],
   "source": [
    "# 1. iter\n",
    "iter_list = iter([1,2,3,4])\n",
    "type(iter_list)"
   ]
  },
  {
   "cell_type": "code",
   "execution_count": 12,
   "id": "10b15ff3",
   "metadata": {},
   "outputs": [
    {
     "name": "stdout",
     "output_type": "stream",
     "text": [
      "2\n"
     ]
    }
   ],
   "source": [
    "# 2. next\n",
    "print(next(iter_list))"
   ]
  },
  {
   "cell_type": "code",
   "execution_count": 14,
   "id": "8ba3789a",
   "metadata": {},
   "outputs": [
    {
     "name": "stdout",
     "output_type": "stream",
     "text": [
      "4\n"
     ]
    }
   ],
   "source": [
    "# 2. next\n",
    "print(next(iter_list))"
   ]
  },
  {
   "cell_type": "code",
   "execution_count": 15,
   "id": "5b1a19df",
   "metadata": {},
   "outputs": [
    {
     "ename": "StopIteration",
     "evalue": "",
     "output_type": "error",
     "traceback": [
      "\u001b[0;31m---------------------------------------------------------------------------\u001b[0m",
      "\u001b[0;31mStopIteration\u001b[0m                             Traceback (most recent call last)",
      "\u001b[0;32m/var/folders/ls/y2r6d6y16g5g_tg8x5hv79hw0000gq/T/ipykernel_1099/203811119.py\u001b[0m in \u001b[0;36m<module>\u001b[0;34m\u001b[0m\n\u001b[1;32m      1\u001b[0m \u001b[0;31m# 2. next\u001b[0m\u001b[0;34m\u001b[0m\u001b[0;34m\u001b[0m\u001b[0m\n\u001b[0;32m----> 2\u001b[0;31m \u001b[0mprint\u001b[0m\u001b[0;34m(\u001b[0m\u001b[0mnext\u001b[0m\u001b[0;34m(\u001b[0m\u001b[0miter_list\u001b[0m\u001b[0;34m)\u001b[0m\u001b[0;34m)\u001b[0m\u001b[0;34m\u001b[0m\u001b[0;34m\u001b[0m\u001b[0m\n\u001b[0m",
      "\u001b[0;31mStopIteration\u001b[0m: "
     ]
    }
   ],
   "source": [
    "# 2. next\n",
    "print(next(iter_list))"
   ]
  },
  {
   "cell_type": "code",
   "execution_count": 21,
   "id": "f0a52cef",
   "metadata": {},
   "outputs": [
    {
     "name": "stdout",
     "output_type": "stream",
     "text": [
      "p\n",
      "y\n",
      "t\n",
      "h\n",
      "o\n",
      "n\n",
      "END OF iter_val\n"
     ]
    }
   ],
   "source": [
    "# handling exception in iterator\n",
    "iter_val = 'python'\n",
    "iter_obj = iter(iter_val)\n",
    "\n",
    "while True:\n",
    "    try:\n",
    "        #iterate by next\n",
    "        item = next(iter_obj)\n",
    "        print(item)\n",
    "    \n",
    "    except:\n",
    "        print('END OF iter_val')\n",
    "        break"
   ]
  },
  {
   "cell_type": "code",
   "execution_count": 27,
   "id": "9352a6f7",
   "metadata": {},
   "outputs": [],
   "source": [
    "# generator\n",
    "def sq_num(n):\n",
    "    for i in range(1, n+1):\n",
    "        yield n*i\n",
    "        print('hi')\n",
    "        \n",
    "a=sq_num(3)"
   ]
  },
  {
   "cell_type": "code",
   "execution_count": 28,
   "id": "70ac0ad7",
   "metadata": {},
   "outputs": [
    {
     "name": "stdout",
     "output_type": "stream",
     "text": [
      "<generator object sq_num at 0x7fdb620a5740>\n"
     ]
    }
   ],
   "source": [
    "print(a)"
   ]
  },
  {
   "cell_type": "code",
   "execution_count": 29,
   "id": "379f48bd",
   "metadata": {},
   "outputs": [
    {
     "data": {
      "text/plain": [
       "<generator object sq_num at 0x7fdb620a5740>"
      ]
     },
     "execution_count": 29,
     "metadata": {},
     "output_type": "execute_result"
    }
   ],
   "source": [
    "a"
   ]
  },
  {
   "cell_type": "code",
   "execution_count": 30,
   "id": "cdfc5ca0",
   "metadata": {},
   "outputs": [
    {
     "name": "stdout",
     "output_type": "stream",
     "text": [
      "3\n",
      "hi\n",
      "6\n",
      "hi\n",
      "9\n",
      "hi\n"
     ]
    }
   ],
   "source": [
    "for i in a:\n",
    "    print(i)"
   ]
  },
  {
   "cell_type": "code",
   "execution_count": 34,
   "id": "a14aad92",
   "metadata": {},
   "outputs": [],
   "source": [
    "def fib(n):\n",
    "    num = []\n",
    "    n1, n2 = 0,1\n",
    "    while n1 < n:\n",
    "        num.append(n1)\n",
    "        n1, n2 = n2, n1+n2\n",
    "    print(num)"
   ]
  },
  {
   "cell_type": "code",
   "execution_count": 36,
   "id": "09f30c50",
   "metadata": {},
   "outputs": [
    {
     "name": "stdout",
     "output_type": "stream",
     "text": [
      "[0, 1, 1, 2, 3, 5, 8]\n"
     ]
    }
   ],
   "source": [
    "fibResult = fib(10)"
   ]
  },
  {
   "cell_type": "code",
   "execution_count": null,
   "id": "72ac4625",
   "metadata": {},
   "outputs": [],
   "source": [
    "# 1. sntax error\n",
    "# 2. runtime error\n",
    "# 3. logical error\n",
    "# 4. BaseException ---->"
   ]
  },
  {
   "cell_type": "code",
   "execution_count": 2,
   "id": "8308d555",
   "metadata": {},
   "outputs": [
    {
     "name": "stdout",
     "output_type": "stream",
     "text": [
      "Inside try\n",
      "Inside except block\n",
      "good stuff\n",
      "EoP\n"
     ]
    }
   ],
   "source": [
    "try:\n",
    "    print('Inside try')\n",
    "    print(k)\n",
    "except:\n",
    "    print('Inside except block')\n",
    "print('good stuff')\n",
    "print('EoP')"
   ]
  },
  {
   "cell_type": "code",
   "execution_count": 3,
   "id": "3a7ae874",
   "metadata": {},
   "outputs": [
    {
     "name": "stdout",
     "output_type": "stream",
     "text": [
      "Inside try\n",
      "Inside except block\n",
      "good stuff\n",
      "EoP\n"
     ]
    }
   ],
   "source": [
    "try:\n",
    "    print('Inside try')\n",
    "    print(k)\n",
    "except:\n",
    "    print('Inside except block')\n",
    "else:\n",
    "    print('default block')\n",
    "print('good stuff')\n",
    "print('EoP')"
   ]
  },
  {
   "cell_type": "code",
   "execution_count": null,
   "id": "884465a8",
   "metadata": {},
   "outputs": [],
   "source": [
    "class Employee():\n",
    "    start_emp_id = 100\n",
    "    sal_hike = 12.5\n",
    "    def __init__(self, fname, lname, sal=100000):\n",
    "        self.fname = fname\n",
    "        self.lastname = lname\n",
    "        self.sal = sal\n",
    "        "
   ]
  },
  {
   "cell_type": "code",
   "execution_count": 2,
   "id": "addfa7e6",
   "metadata": {},
   "outputs": [],
   "source": [
    "class Employee():\n",
    "    start_emp_id = 100\n",
    "    sal_hike = 1.2\n",
    "    def __init__(self, fname, lname, sal=100000):\n",
    "        self.fname = fname\n",
    "        self.lname = lname\n",
    "        self.emp_id = Employee.start_emp_id\n",
    "        Employee.start_emp_id +=1\n",
    "        self.email = self.fname.lower() + self.lname.lower() +\"@example.com\"\n",
    "        self.salary = sal\n",
    "    def __write_employee(self):\n",
    "        print(\"hello emp\")\n",
    "\n",
    "    def display(self):\n",
    "        self.__write_employee()\n",
    "        print(\"name:%s and lastname:%s\"%(self.fname, self.lname))\n",
    "    def apply_hike(self):\n",
    "        self.salary *=Employee.sal_hike"
   ]
  },
  {
   "cell_type": "code",
   "execution_count": 6,
   "id": "cff2d24a",
   "metadata": {},
   "outputs": [],
   "source": [
    "import re"
   ]
  },
  {
   "cell_type": "code",
   "execution_count": 4,
   "id": "d5a334a8",
   "metadata": {},
   "outputs": [],
   "source": [
    "s = '11 people 11 drum, 11 guitar'"
   ]
  },
  {
   "cell_type": "code",
   "execution_count": 5,
   "id": "f7b7208f",
   "metadata": {},
   "outputs": [
    {
     "ename": "NameError",
     "evalue": "name 'p' is not defined",
     "output_type": "error",
     "traceback": [
      "\u001b[0;31m---------------------------------------------------------------------------\u001b[0m",
      "\u001b[0;31mNameError\u001b[0m                                 Traceback (most recent call last)",
      "\u001b[0;32m/var/folders/ls/y2r6d6y16g5g_tg8x5hv79hw0000gq/T/ipykernel_1168/509210434.py\u001b[0m in \u001b[0;36m<module>\u001b[0;34m\u001b[0m\n\u001b[0;32m----> 1\u001b[0;31m \u001b[0mp\u001b[0m\u001b[0;34m.\u001b[0m\u001b[0mfindall\u001b[0m\u001b[0;34m(\u001b[0m\u001b[0ms\u001b[0m\u001b[0;34m)\u001b[0m\u001b[0;34m\u001b[0m\u001b[0;34m\u001b[0m\u001b[0m\n\u001b[0m",
      "\u001b[0;31mNameError\u001b[0m: name 'p' is not defined"
     ]
    }
   ],
   "source": [
    "p.findall(s)"
   ]
  },
  {
   "cell_type": "code",
   "execution_count": null,
   "id": "8bbd6cc1",
   "metadata": {},
   "outputs": [
    {
     "name": "stdout",
     "output_type": "stream",
     "text": [
      "\n",
      "Pick your choice \n",
      " 1 - Withdraw \n",
      " 2 - Saving \n",
      " 3 - Current \n",
      " 4 - Other \n"
     ]
    }
   ],
   "source": [
    "import random\n",
    "import csv\n",
    "\n",
    "fields = ['Name', 'Account Number', 'Balance', 'Account Type', 'Card Number', 'Mobile Number', 'PIN', \"ACCESS\"]\n",
    "filename = \"bank.csv\"\n",
    "class Account:\n",
    "    def __init__(self, name, account_number, card_number, mobile_number, pin, balance, access=\"ALLOWED\",\n",
    "                 account_type=\"Savings\"):\n",
    "        self.name = name\n",
    "        self.account_number = account_number\n",
    "        self.balance = balance\n",
    "        self.account_type = account_type\n",
    "        self.card_number = card_number\n",
    "        self.mobile_number = mobile_number\n",
    "        self.pin = pin\n",
    "        self.access = access\n",
    "\n",
    "    def _update_lager(self):\n",
    "        with open(filename, 'w') as csv_file:\n",
    "            # creating a csv writer object\n",
    "            csv_writer = csv.writer(csv_file)\n",
    "\n",
    "            # writing the fields\n",
    "            csv_writer.writerow(fields)\n",
    "\n",
    "            # writing the data rows\n",
    "            csv_writer.writerow([\n",
    "                self.name,\n",
    "                self.account_number,\n",
    "                self.balance,\n",
    "                self.account_type,\n",
    "                self.card_number,\n",
    "                self.mobile_number,\n",
    "                self.pin,\n",
    "                self.access\n",
    "            ])\n",
    "\n",
    "    def get_account_number(self):\n",
    "        return self.account_number\n",
    "\n",
    "    def get_balance(self):\n",
    "        return self.balance\n",
    "\n",
    "    def withdraw(self, amount):\n",
    "        self.balance -= amount\n",
    "        self._update_lager()\n",
    "\n",
    "    def deposit(self, amount):\n",
    "        self.balance += amount\n",
    "        self._update_lager()\n",
    "\n",
    "    def validate_otp(self, valid_otp, otp, mobile_number):\n",
    "        return valid_otp == otp and self.mobile_number == mobile_number\n",
    "\n",
    "    def update_pin(self, new_pin):\n",
    "        self.pin = new_pin\n",
    "        self._update_lager()\n",
    "\n",
    "    def block_access(self):\n",
    "        self.access = \"BLOCKED\"\n",
    "        self._update_lager()\n",
    "\n",
    "\n",
    "accounts = []\n",
    "for i in range(1000, 9999):\n",
    "    account = Account(f\"Account Holder Name\", i, i, i, i, i * 200)\n",
    "    accounts.append(account)\n",
    "\n",
    "\n",
    "def get_current_account():\n",
    "    while True:\n",
    "        # Reading account number from user\n",
    "        account_number = int(input(\"\\nEnter account number: \"))\n",
    "\n",
    "        # Loop till id is valid\n",
    "        while account_number < 1000 or account_number > 9999:\n",
    "            account_number = int(input(\"\\nInvalid account number Re-enter: \"))\n",
    "\n",
    "        # Getting account object\n",
    "        for acc in accounts:\n",
    "            # Comparing account id\n",
    "            if acc.get_account_number() == account_number:\n",
    "                current_account_obj = acc\n",
    "                return current_account_obj\n",
    "        return account_number\n",
    "\n",
    "\n",
    "def perform_withdraw(current_account: Account):\n",
    "    # Reading account number from user\n",
    "    amount_to_withdraw = int(input(\"\\nEnter amount to withdraw in multiples of 200: \"))\n",
    "\n",
    "    # Loop till id is valid\n",
    "    while amount_to_withdraw % 200 != 0:\n",
    "        amount_to_withdraw = int(input(\"\\nInvalid account number Re-enter: \"))\n",
    "\n",
    "    if current_account.get_balance() < amount_to_withdraw:\n",
    "        print(\"Low balance, salary kam hai.\")\n",
    "        exit()\n",
    "    else:\n",
    "        current_account.withdraw(amount_to_withdraw)\n",
    "        print(\"Low balance, salary abhi bhi kam hai.\")\n",
    "        print(\"Transaction done \")\n",
    "\n",
    "\n",
    "def change_pin(current_account: Account):\n",
    "    # Reading account number from user\n",
    "    card_number = int(input(\"\\nEnter Card Number: \"))\n",
    "\n",
    "    # Loop till id is valid\n",
    "    while current_account.card_number != card_number:\n",
    "        amount_to_withdraw = int(input(\"\\nInvalid Card number Re-enter: \"))\n",
    "\n",
    "    mobile_number = input(\"\\nEnter Mobile Number: \")\n",
    "    otp = input(\"\\nEnter OTP: \")\n",
    "\n",
    "    if current_account.validate_otp(otp, mobile_number):\n",
    "        print(\"Low balance, salary itni kam hai ki OTP bhi sahi nahi aata.\")\n",
    "        exit()\n",
    "    else:\n",
    "        current_account.update_pin(input(\"\\nEnter Pin: \"))\n",
    "        print(\"Change Pin Done, salary abhi bhi kam hai.\")\n",
    "        print(\"Transaction done \")\n",
    "\n",
    "\n",
    "def block_card(current_account: Account):\n",
    "    # Reading account number from user\n",
    "    card_number = int(input(\"\\nEnter Card Number: \"))\n",
    "\n",
    "    # Loop till id is valid\n",
    "    while current_account.card_number != card_number:\n",
    "        amount_to_withdraw = int(input(\"\\nInvalid Card number Re-enter: \"))\n",
    "\n",
    "    mobile_number = input(\"\\nEnter Mobile Number: \")\n",
    "    otp = input(\"\\nEnter OTP: \")\n",
    "\n",
    "    if current_account.validate_otp(otp, mobile_number):\n",
    "        print(\"Low balance, salary itni kam hai ki OTP bhi sahi nahi aata.\")\n",
    "        exit()\n",
    "    else:\n",
    "        current_account.update_pin(input(\"\\nEnter Pin: \"))\n",
    "        print(\"Card Blocked, salary abhi bhi kam hai.\")\n",
    "        print(\"Transaction done \")\n",
    "\n",
    "\n",
    "while True:\n",
    "\n",
    "    # Printing menu\n",
    "    print(\"\\nPick your choice \\n 1 - Withdraw \\n 2 - Saving \\n 3 - Current \\n 4 - Other \")\n",
    "\n",
    "    # Reading selection\n",
    "    selection = int(input(\"\\nEnter your selection: \"))\n",
    "    accountObj = get_current_account()\n",
    "\n",
    "    if selection == 1:\n",
    "        perform_withdraw(accountObj)\n",
    "\n",
    "    # Withdraw\n",
    "    elif selection == 2:\n",
    "        change_pin(accountObj)\n",
    "\n",
    "    elif selection == 3:\n",
    "        block_card(accountObj)\n"
   ]
  },
  {
   "cell_type": "code",
   "execution_count": null,
   "id": "c052a318",
   "metadata": {},
   "outputs": [],
   "source": []
  }
 ],
 "metadata": {
  "kernelspec": {
   "display_name": "Python 3 (ipykernel)",
   "language": "python",
   "name": "python3"
  },
  "language_info": {
   "codemirror_mode": {
    "name": "ipython",
    "version": 3
   },
   "file_extension": ".py",
   "mimetype": "text/x-python",
   "name": "python",
   "nbconvert_exporter": "python",
   "pygments_lexer": "ipython3",
   "version": "3.9.9"
  }
 },
 "nbformat": 4,
 "nbformat_minor": 5
}
